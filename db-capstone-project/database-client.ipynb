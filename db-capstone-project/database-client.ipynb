{
 "cells": [
  {
   "cell_type": "code",
   "execution_count": 2,
   "id": "28e5f7c4-2a3b-49ba-b94c-21334ed8e117",
   "metadata": {},
   "outputs": [],
   "source": [
    "import mysql.connector as connector"
   ]
  },
  {
   "cell_type": "code",
   "execution_count": 4,
   "id": "39417db6-b58a-4c25-adf6-e654a7aee5a9",
   "metadata": {},
   "outputs": [],
   "source": [
    "connection = connector.connect(user='testuser', password='123456789$', db='littlelemondb')"
   ]
  },
  {
   "cell_type": "code",
   "execution_count": 5,
   "id": "35a7bcc4-3a65-4f35-ab8c-047ee9cfd055",
   "metadata": {},
   "outputs": [],
   "source": [
    "cursor = connection.cursor()"
   ]
  },
  {
   "cell_type": "code",
   "execution_count": 6,
   "id": "cc25d85b-355f-47ec-b931-e90767749cb8",
   "metadata": {},
   "outputs": [],
   "source": [
    "cursor.execute('SHOW TABLES')"
   ]
  },
  {
   "cell_type": "code",
   "execution_count": 7,
   "id": "e051dca7-d335-4346-8405-0af1b8bdaad1",
   "metadata": {},
   "outputs": [
    {
     "name": "stdout",
     "output_type": "stream",
     "text": [
      "('Tables_in_littlelemondb',)\n",
      "('bookings',)\n",
      "('customers',)\n",
      "('menuitems',)\n",
      "('menus',)\n",
      "('orderdelivery',)\n",
      "('orders',)\n",
      "('ordersview',)\n",
      "('staff',)\n"
     ]
    }
   ],
   "source": [
    "print(cursor.column_names)\n",
    "for table in cursor:\n",
    "    print(table)"
   ]
  },
  {
   "cell_type": "code",
   "execution_count": 8,
   "id": "a02edd01-ce34-49ce-9018-592208c5de29",
   "metadata": {},
   "outputs": [],
   "source": [
    "show_tables_query = 'SHOW TABLES'"
   ]
  },
  {
   "cell_type": "code",
   "execution_count": 9,
   "id": "c3f6bda5-d2db-4ee8-bf33-be186b218882",
   "metadata": {},
   "outputs": [],
   "source": [
    "cursor.execute(show_tables_query)"
   ]
  },
  {
   "cell_type": "code",
   "execution_count": 11,
   "id": "66bb2ecf-777d-4d23-8849-c4df7e1d98d4",
   "metadata": {},
   "outputs": [
    {
     "name": "stdout",
     "output_type": "stream",
     "text": [
      "('bookings',)\n",
      "('customers',)\n",
      "('menuitems',)\n",
      "('menus',)\n",
      "('orderdelivery',)\n",
      "('orders',)\n",
      "('ordersview',)\n",
      "('staff',)\n"
     ]
    }
   ],
   "source": [
    "for table in cursor:\n",
    "    print(table)"
   ]
  },
  {
   "cell_type": "code",
   "execution_count": 12,
   "id": "b5e9a660-6b26-4569-b745-7c75315d6fa8",
   "metadata": {},
   "outputs": [],
   "source": [
    "order_detail_query = \"\"\"SELECT CONCAT(Customers.FirstName, ' ', Customers.LastName) AS FullName,\n",
    "Customers.ContactNumber, \n",
    "Customers.Email\n",
    "FROM Customers\n",
    "INNER JOIN Bookings\n",
    "ON Customers.CustomerID = Bookings.CustomerID\n",
    "INNER JOIN Orders\n",
    "ON Bookings.BookingID = Orders.BookingID\n",
    "WHERE TotalCost > 60;\n",
    "\"\"\""
   ]
  },
  {
   "cell_type": "code",
   "execution_count": 13,
   "id": "1c1947ed-0996-47f7-80ca-013d111170a9",
   "metadata": {},
   "outputs": [],
   "source": [
    "cursor.execute(order_detail_query)"
   ]
  },
  {
   "cell_type": "code",
   "execution_count": 14,
   "id": "38263e41-8ed0-4f4b-9605-d6c5563e2fb5",
   "metadata": {},
   "outputs": [],
   "source": [
    "results = cursor.fetchall()"
   ]
  },
  {
   "cell_type": "code",
   "execution_count": 15,
   "id": "3a0b1be7-7e63-4b52-8f8f-975c11f5447b",
   "metadata": {},
   "outputs": [],
   "source": [
    "cols = cursor.column_names"
   ]
  },
  {
   "cell_type": "code",
   "execution_count": 16,
   "id": "0b8f2fe4-1e0c-496c-8142-0c568e9efe66",
   "metadata": {},
   "outputs": [
    {
     "name": "stdout",
     "output_type": "stream",
     "text": [
      "('FullName', 'ContactNumber', 'Email')\n",
      "('Zhang Jiani', '1112223333', 'zjiani@gmail.com')\n",
      "('Zhang Jiani', '1112223333', 'zjiani@gmail.com')\n",
      "('Zhang Jiangli', '1112224444', 'zjiangli@gmail.com')\n",
      "('Chae Chaewon', '1112226666', 'cchaewon@outlook.com')\n",
      "('Ivan Chang', '1112227777', 'ichang@gmail.com')\n",
      "('Gabriel Martinelli', '1112228888', 'gmartinelli@gmail.com')\n",
      "('Gabriel Martinelli', '1112228888', 'gmartinelli@gmail.com')\n"
     ]
    }
   ],
   "source": [
    "print(cols)\n",
    "for result in results:\n",
    "    print(result)"
   ]
  },
  {
   "cell_type": "code",
   "execution_count": null,
   "id": "e99bbde2-e234-4ab1-9127-ab259e6cc48d",
   "metadata": {},
   "outputs": [],
   "source": []
  }
 ],
 "metadata": {
  "kernelspec": {
   "display_name": "Python 3 (ipykernel)",
   "language": "python",
   "name": "python3"
  },
  "language_info": {
   "codemirror_mode": {
    "name": "ipython",
    "version": 3
   },
   "file_extension": ".py",
   "mimetype": "text/x-python",
   "name": "python",
   "nbconvert_exporter": "python",
   "pygments_lexer": "ipython3",
   "version": "3.12.3"
  }
 },
 "nbformat": 4,
 "nbformat_minor": 5
}
